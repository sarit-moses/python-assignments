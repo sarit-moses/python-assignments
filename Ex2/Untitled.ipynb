{
 "cells": [
  {
   "cell_type": "code",
   "execution_count": 1,
   "id": "bdbe4c70-7366-4f19-92df-62636c5f5cff",
   "metadata": {},
   "outputs": [],
   "source": [
    "x = 12"
   ]
  },
  {
   "cell_type": "code",
   "execution_count": 2,
   "id": "34fcd623-113c-4a47-997f-862f6c4ba335",
   "metadata": {},
   "outputs": [],
   "source": [
    "y = 23"
   ]
  },
  {
   "cell_type": "code",
   "execution_count": null,
   "id": "3aa4d024-c338-4767-9f56-3bc9ad199160",
   "metadata": {},
   "outputs": [],
   "source": []
  }
 ],
 "metadata": {
  "kernelspec": {
   "display_name": "Python 3 (ipykernel)",
   "language": "python",
   "name": "python3"
  },
  "language_info": {
   "codemirror_mode": {
    "name": "ipython",
    "version": 3
   },
   "file_extension": ".py",
   "mimetype": "text/x-python",
   "name": "python",
   "nbconvert_exporter": "python",
   "pygments_lexer": "ipython3",
   "version": "3.13.0"
  }
 },
 "nbformat": 4,
 "nbformat_minor": 5
}
