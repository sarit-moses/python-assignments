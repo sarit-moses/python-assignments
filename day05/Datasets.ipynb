{
 "cells": [
  {
   "cell_type": "markdown",
   "metadata": {
    "id": "TlBbWpWdVB5a"
   },
   "source": [
    "# Assignment 5: Datasets"
   ]
  },
  {
   "cell_type": "markdown",
   "metadata": {
    "id": "FPPf2lrGVB5b"
   },
   "source": [
    "\n",
    "In this assignment, we'll work with a simple biological dataset containing information about hypothetical patients and their white blood cell (WBC) counts. We'll use Python and pandas to load, inspect, and analyze the data.\n"
   ]
  },
  {
   "cell_type": "markdown",
   "metadata": {
    "id": "59gS2gnnVB5b"
   },
   "source": [
    "## <font color = \"pink\" >  Part 1: Load and Inspect the Dataset\n",
    "\n"
   ]
  },
  {
   "cell_type": "markdown",
   "metadata": {
    "id": "-x8dorlTVB5b"
   },
   "source": [
    "**Task:**\n",
    "\n",
    "- Load the dataset into Python.\n",
    "- Display the first 5 rows of the dataset.\n",
    "- Count the total number of patients in the dataset.\n",
    "\n",
    "**Instructions:**\n",
    "\n",
    "- Use `pd.read_csv('filename.csv')` to read the CSV file.\n",
    "- Use the `.head()` method to display the first few rows.\n",
    "- Use `len(data)` or `data.shape[0]` to count the number of rows.\n",
    "\n"
   ]
  },
  {
   "cell_type": "code",
   "execution_count": 1,
   "metadata": {
    "id": "5-RdKFOuVB5b"
   },
   "outputs": [
    {
     "name": "stdout",
     "output_type": "stream",
     "text": [
      "   PatientID  Age Sex  Condition  WBC_Count\n",
      "0          1   25   M    Healthy       5600\n",
      "1          2   40   F  Infection      11000\n",
      "2          3   35   F    Healthy       6700\n",
      "3          4   50   M     Cancer       8700\n",
      "4          5   60   M  Infection      13400\n",
      "number of rows: 10\n"
     ]
    }
   ],
   "source": [
    "import pandas as pd\n",
    "\n",
    "# Load the dataset\n",
    "\n",
    "data = pd.read_csv(\"patient_data.csv\")\n",
    "\n",
    "# Display the first 5 rows of the dataset\n",
    "print(data.head(5))\n",
    "\n",
    "# Count the number of patients\n",
    "print(\"number of rows:\", data.shape[0])\n"
   ]
  },
  {
   "cell_type": "markdown",
   "metadata": {
    "id": "ZAvkxB9nVB5c"
   },
   "source": [
    "## <font color = \"pink\" > Task 2: Summarize the data"
   ]
  },
  {
   "cell_type": "markdown",
   "metadata": {
    "id": "l9YL_yhNVB5c"
   },
   "source": [
    "**Task**\n",
    "\n",
    "Calculate the average (mean) WBC count.\n",
    "Find the minimum and maximum WBC count.\n",
    "Determine the number of unique conditions in the dataset.\n",
    "Instructions:\n",
    "\n",
    "Use data['WBC_Count'].mean() to compute the mean WBC count.\n",
    "Use .min() and .max() to find the minimum and maximum WBC counts.\n",
    "Use data['Condition'].nunique() to find the number of unique conditions.\n",
    "\n"
   ]
  },
  {
   "cell_type": "code",
   "execution_count": 2,
   "metadata": {
    "id": "yJghPmxsVB5c"
   },
   "outputs": [
    {
     "name": "stdout",
     "output_type": "stream",
     "text": [
      "\n",
      "Mean WBC count: 8710.0\n",
      "Minimum WBC count: 5400\n",
      "Maximum WBC count: 13400\n",
      "\n",
      "Number of unique conditions: 3\n"
     ]
    }
   ],
   "source": [
    "# Calculate basic statistics\n",
    "# TODO: Compute the mean WBC count and store it in 'mean_wbc'\n",
    "mean_wbc = data[\"WBC_Count\"].mean()\n",
    "\n",
    "# TODO: Compute the minimum WBC count and store it in 'min_wbc'\n",
    "min_wbc = data[\"WBC_Count\"].min()\n",
    "\n",
    "# TODO: Compute the maximum WBC count and store it in 'max_wbc'\n",
    "max_wbc = data[\"WBC_Count\"].max()\n",
    "\n",
    "print(f\"\\nMean WBC count: {mean_wbc}\")\n",
    "print(f\"Minimum WBC count: {min_wbc}\")\n",
    "print(f\"Maximum WBC count: {max_wbc}\")\n",
    "\n",
    "# Count unique conditions\n",
    "unique_conditions = data[\"Condition\"].nunique() # TODO: Find the number of unique conditions and store it in 'unique_conditions'\n",
    "print(f\"\\nNumber of unique conditions: {unique_conditions}\")\n"
   ]
  },
  {
   "cell_type": "markdown",
   "metadata": {
    "id": "I3c-55wYVB5d"
   },
   "source": [
    "## <font color = \"pink\" >Task 3: Filtering the data"
   ]
  },
  {
   "cell_type": "markdown",
   "metadata": {
    "id": "jV6ZHVy3VB5d"
   },
   "source": [
    "**Task**\n",
    "\n",
    "Extract patients with WBC count above 10,000.\n",
    "Extract patients with the condition \"Healthy\".\n",
    "Instructions:\n",
    "\n",
    "Use boolean indexing to filter the DataFrame.\n",
    "Store the filtered DataFrames in variables and display them.\n",
    "\n"
   ]
  },
  {
   "cell_type": "code",
   "execution_count": 3,
   "metadata": {
    "id": "nY7IFv_0VB5d"
   },
   "outputs": [
    {
     "name": "stdout",
     "output_type": "stream",
     "text": [
      "\n",
      "Patients with WBC count above 10,000:\n",
      "   PatientID  Age Sex  Condition  WBC_Count\n",
      "1          2   40   F  Infection      11000\n",
      "4          5   60   M  Infection      13400\n",
      "7          8   45   F  Infection      12500\n",
      "\n",
      "Patients with the condition 'Healthy':\n",
      "   PatientID  Age Sex Condition  WBC_Count\n",
      "0          1   25   M   Healthy       5600\n",
      "2          3   35   F   Healthy       6700\n",
      "5          6   30   F   Healthy       5900\n",
      "8          9   20   F   Healthy       5400\n"
     ]
    }
   ],
   "source": [
    "# Filter patients with WBC count > 10,000\n",
    "high_wbc = data[data[\"WBC_Count\"] > 10000]\n",
    "print(\"\\nPatients with WBC count above 10,000:\")\n",
    "print(high_wbc)\n",
    "\n",
    "# Filter patients with the condition 'Healthy'\n",
    "healthy_patients = data[data[\"Condition\"] == \"Healthy\"]\n",
    "print(\"\\nPatients with the condition 'Healthy':\")\n",
    "print(healthy_patients)\n"
   ]
  },
  {
   "cell_type": "markdown",
   "metadata": {
    "id": "RFNUS7wuVB5d"
   },
   "source": [
    "## <font color = \"pink\" >Task 4: Counting the Data"
   ]
  },
  {
   "cell_type": "code",
   "execution_count": 4,
   "metadata": {
    "id": "-wx0GyW0VB5d"
   },
   "outputs": [
    {
     "name": "stdout",
     "output_type": "stream",
     "text": [
      "\n",
      "Number of patients by condition:\n",
      "Condition\n",
      "Healthy      4\n",
      "Infection    3\n",
      "Cancer       3\n",
      "Name: count, dtype: int64\n"
     ]
    }
   ],
   "source": [
    "# Count patients by condition\n",
    "condition_counts = data[\"Condition\"].value_counts()\n",
    "print(\"\\nNumber of patients by condition:\")\n",
    "print(condition_counts)\n"
   ]
  },
  {
   "cell_type": "markdown",
   "metadata": {
    "id": "J3Xh1iFuVB5d"
   },
   "source": [
    "## <font color ='pink'> # Task 5: Visualize Data"
   ]
  },
  {
   "cell_type": "markdown",
   "metadata": {
    "id": "MCXcP6G0VB5d"
   },
   "source": [
    "Task:\n",
    "\n",
    "Create a bar chart showing the number of patients for each condition.\n",
    "Create a scatter plot showing the relationship between age and WBC count.\n",
    "Instructions:\n",
    "\n",
    "Use matplotlib for plotting.\n",
    "Customize the plots with titles and labels.\n",
    "\n",
    "\n",
    "\n",
    "\n"
   ]
  },
  {
   "cell_type": "code",
   "execution_count": 5,
   "metadata": {
    "id": "p4y-41NPcjkq"
   },
   "outputs": [
    {
     "data": {
      "image/png": "[encoded data removed]",
      "text/plain": [
       "<Figure size 640x480 with 1 Axes>"
      ]
     },
     "metadata": {},
     "output_type": "display_data"
    },
    {
     "data": {
      "image/png": "[encoded data removed]",
      "text/plain": [
       "<Figure size 640x480 with 1 Axes>"
      ]
     },
     "metadata": {},
     "output_type": "display_data"
    }
   ],
   "source": [
    "import matplotlib.pyplot as plt\n",
    "\n",
    "# Bar chart for number of patients by condition\n",
    "plt.bar(condition_counts.index, condition_counts.values)\n",
    "plt.xlabel(\"Condition\")\n",
    "plt.ylabel(\"Count\")\n",
    "plt.ylim(0, 5)\n",
    "plt.title(\"Count of Each Condition\")\n",
    "plt.show()\n",
    "\n",
    "\n",
    "# Scatter plot of Age vs. WBC Count\n",
    "plt.scatter(data[\"Age\"], data[\"WBC_Count\"])\n",
    "plt.xlabel(\"Age\")\n",
    "plt.ylabel(\"WBC Count\")\n",
    "plt.title(\"Age vs. WBC Count\")\n",
    "plt.show()\n",
    "\n"
   ]
  }
 ],
 "metadata": {
  "colab": {
   "provenance": []
  },
  "kernelspec": {
   "display_name": "Python 3 (ipykernel)",
   "language": "python",
   "name": "python3"
  },
  "language_info": {
   "codemirror_mode": {
    "name": "ipython",
    "version": 3
   },
   "file_extension": ".py",
   "mimetype": "text/x-python",
   "name": "python",
   "nbconvert_exporter": "python",
   "pygments_lexer": "ipython3",
   "version": "3.13.0"
  }
 },
 "nbformat": 4,
 "nbformat_minor": 4
}
