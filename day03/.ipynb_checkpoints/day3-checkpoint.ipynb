{
 "cells": [
  {
   "cell_type": "code",
   "execution_count": 1,
   "id": "f6b4e1b6-292d-46d7-8eb1-20c79d6a7e16",
   "metadata": {},
   "outputs": [
    {
     "name": "stdin",
     "output_type": "stream",
     "text": [
      "enter width here: 1\n"
     ]
    }
   ],
   "source": [
    "width = float(input(\"enter width here:\"))"
   ]
  },
  {
   "cell_type": "code",
   "execution_count": 2,
   "id": "358d7797-1641-4d7c-b818-7902789f2623",
   "metadata": {},
   "outputs": [
    {
     "name": "stdin",
     "output_type": "stream",
     "text": [
      "enter length here: 2\n"
     ]
    }
   ],
   "source": [
    "length = float(input(\"enter length here:\"))"
   ]
  },
  {
   "cell_type": "code",
   "execution_count": 3,
   "id": "49922c93-f89c-4c90-a14f-b4d6154a8e53",
   "metadata": {},
   "outputs": [
    {
     "name": "stdin",
     "output_type": "stream",
     "text": [
      "enter radius here: 3\n"
     ]
    }
   ],
   "source": [
    "radius = float(input(\"enter radius here:\"))"
   ]
  },
  {
   "cell_type": "code",
   "execution_count": 4,
   "id": "140d97e9-2e9f-4f58-9a9d-48ca13546f4a",
   "metadata": {},
   "outputs": [
    {
     "name": "stdout",
     "output_type": "stream",
     "text": [
      "rectangle area: 2.0\n"
     ]
    }
   ],
   "source": [
    "print(\"rectangle area:\", width*length)"
   ]
  },
  {
   "cell_type": "code",
   "execution_count": 5,
   "id": "f1f142e3-01fc-45fc-9599-90c51748b9c7",
   "metadata": {},
   "outputs": [
    {
     "name": "stdout",
     "output_type": "stream",
     "text": [
      "rectangle circumference: 6.0\n"
     ]
    }
   ],
   "source": [
    "print(\"rectangle circumference:\", 2*(width+length))"
   ]
  },
  {
   "cell_type": "code",
   "execution_count": 6,
   "id": "664021bd-e278-4d48-90fc-98e3c5955e01",
   "metadata": {},
   "outputs": [],
   "source": [
    "import math\n",
    "pi_val = math.pi"
   ]
  },
  {
   "cell_type": "code",
   "execution_count": 7,
   "id": "3d51284a-6585-4388-a054-1ad284b67927",
   "metadata": {},
   "outputs": [
    {
     "name": "stdout",
     "output_type": "stream",
     "text": [
      "circle area: 28.274333882308138\n"
     ]
    }
   ],
   "source": [
    "print(\"circle area:\", pi_val*(radius**2))"
   ]
  },
  {
   "cell_type": "code",
   "execution_count": 8,
   "id": "2b2c2045-2a04-4d8a-8b69-cfffde45693a",
   "metadata": {},
   "outputs": [
    {
     "name": "stdout",
     "output_type": "stream",
     "text": [
      "circle circumference: 18.84955592153876\n"
     ]
    }
   ],
   "source": [
    "print(\"circle circumference:\", 2*pi_val*radius)"
   ]
  }
 ],
 "metadata": {
  "kernelspec": {
   "display_name": "Python 3 (ipykernel)",
   "language": "python",
   "name": "python3"
  },
  "language_info": {
   "codemirror_mode": {
    "name": "ipython",
    "version": 3
   },
   "file_extension": ".py",
   "mimetype": "text/x-python",
   "name": "python",
   "nbconvert_exporter": "python",
   "pygments_lexer": "ipython3",
   "version": "3.13.0"
  }
 },
 "nbformat": 4,
 "nbformat_minor": 5
}
